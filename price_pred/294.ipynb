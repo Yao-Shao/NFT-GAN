{
  "cells": [
    {
      "cell_type": "markdown",
      "metadata": {
        "id": "78J3zf8kXzJX"
      },
      "source": [
        "# **Step** 0: Setup Environment and import libraries"
      ]
    },
    {
      "cell_type": "code",
      "execution_count": null,
      "metadata": {
        "colab": {
          "base_uri": "https://localhost:8080/"
        },
        "id": "3oKnGkttPl3u",
        "outputId": "7ee786b7-b440-422e-eb14-a139aab01b0e"
      },
      "outputs": [
        {
          "output_type": "stream",
          "name": "stdout",
          "text": [
            "Drive already mounted at /content/drive; to attempt to forcibly remount, call drive.mount(\"/content/drive\", force_remount=True).\n"
          ]
        }
      ],
      "source": [
        "from google.colab import drive\n",
        "drive.mount('/content/drive')"
      ]
    },
    {
      "cell_type": "code",
      "execution_count": null,
      "metadata": {
        "colab": {
          "base_uri": "https://localhost:8080/"
        },
        "id": "EEM6iv-ySApC",
        "outputId": "be97f170-0d04-4d9b-e117-73d0237e94e1"
      },
      "outputs": [
        {
          "output_type": "stream",
          "name": "stdout",
          "text": [
            "Requirement already satisfied: pandas in /usr/local/lib/python3.7/dist-packages (1.3.5)\n",
            "Requirement already satisfied: python-dateutil>=2.7.3 in /usr/local/lib/python3.7/dist-packages (from pandas) (2.8.2)\n",
            "Requirement already satisfied: numpy>=1.17.3 in /usr/local/lib/python3.7/dist-packages (from pandas) (1.21.6)\n",
            "Requirement already satisfied: pytz>=2017.3 in /usr/local/lib/python3.7/dist-packages (from pandas) (2022.1)\n",
            "Requirement already satisfied: six>=1.5 in /usr/local/lib/python3.7/dist-packages (from python-dateutil>=2.7.3->pandas) (1.15.0)\n",
            "Requirement already satisfied: seaborn in /usr/local/lib/python3.7/dist-packages (0.11.2)\n",
            "Requirement already satisfied: pandas>=0.23 in /usr/local/lib/python3.7/dist-packages (from seaborn) (1.3.5)\n",
            "Requirement already satisfied: numpy>=1.15 in /usr/local/lib/python3.7/dist-packages (from seaborn) (1.21.6)\n",
            "Requirement already satisfied: matplotlib>=2.2 in /usr/local/lib/python3.7/dist-packages (from seaborn) (3.2.2)\n",
            "Requirement already satisfied: scipy>=1.0 in /usr/local/lib/python3.7/dist-packages (from seaborn) (1.4.1)\n",
            "Requirement already satisfied: kiwisolver>=1.0.1 in /usr/local/lib/python3.7/dist-packages (from matplotlib>=2.2->seaborn) (1.4.2)\n",
            "Requirement already satisfied: cycler>=0.10 in /usr/local/lib/python3.7/dist-packages (from matplotlib>=2.2->seaborn) (0.11.0)\n",
            "Requirement already satisfied: pyparsing!=2.0.4,!=2.1.2,!=2.1.6,>=2.0.1 in /usr/local/lib/python3.7/dist-packages (from matplotlib>=2.2->seaborn) (3.0.8)\n",
            "Requirement already satisfied: python-dateutil>=2.1 in /usr/local/lib/python3.7/dist-packages (from matplotlib>=2.2->seaborn) (2.8.2)\n",
            "Requirement already satisfied: typing-extensions in /usr/local/lib/python3.7/dist-packages (from kiwisolver>=1.0.1->matplotlib>=2.2->seaborn) (4.2.0)\n",
            "Requirement already satisfied: pytz>=2017.3 in /usr/local/lib/python3.7/dist-packages (from pandas>=0.23->seaborn) (2022.1)\n",
            "Requirement already satisfied: six>=1.5 in /usr/local/lib/python3.7/dist-packages (from python-dateutil>=2.1->matplotlib>=2.2->seaborn) (1.15.0)\n"
          ]
        }
      ],
      "source": [
        "!pip install pandas\n",
        "!pip install seaborn"
      ]
    },
    {
      "cell_type": "code",
      "execution_count": null,
      "metadata": {
        "id": "8LuSIfdnSNzn"
      },
      "outputs": [],
      "source": [
        "# import libraries\n",
        "import pandas as pd\n",
        "import numpy as np\n",
        "import pandas as pd\n",
        "import sklearn.linear_model as lm\n",
        "from sklearn.model_selection import train_test_split\n",
        "from sklearn.ensemble import RandomForestRegressor\n",
        "from sklearn import linear_model\n",
        "\n",
        "import torch\n",
        "import torch.utils.data\n",
        "from IPython import display\n",
        "import torch.nn as nn\n",
        "from sklearn.metrics import mean_squared_error\n",
        "import sklearn\n",
        "\n",
        "from torch.utils.data import Dataset\n",
        "from torch.utils.data import DataLoader\n",
        "from torchvision import transforms\n",
        "from PIL import Image\n",
        "\n",
        "import matplotlib.image as mpimg\n",
        "import numpy as np\n",
        "import torchvision.models as models\n",
        "\n",
        "from torchvision.datasets import ImageFolder\n",
        "from PIL import Image\n",
        "\n",
        "import pandas as pd\n",
        "import torch.optim as optim\n",
        "\n",
        "import sys\n",
        "import matplotlib.pyplot as plt\n",
        "import seaborn as sns\n",
        "from IPython.core.display import display,HTML\n",
        "import requests, mimetypes\n",
        "from PIL import Image\n",
        "import requests\n",
        "from io import BytesIO\n",
        "import os\n",
        "\n",
        "import datetime as dt"
      ]
    },
    {
      "cell_type": "markdown",
      "metadata": {
        "id": "E2iy5QAbW0xe"
      },
      "source": [
        "# **Step 1**: Data Preprocessing\n",
        "Use dataset from https://osf.io/wsnzr/?view_only=319a53cf1bf542bbbe538aba37916537 and use only the Art Category data for our prediction model. Unnecessary columns are droped while some new columns are generated. Two new csv file are generated: Cleaned Art Data.csv and One Hot Cleaned Art Data.csv. "
      ]
    },
    {
      "cell_type": "code",
      "execution_count": null,
      "metadata": {
        "id": "krUgwHy2Ui5i"
      },
      "outputs": [],
      "source": [
        "# filter art data\n",
        "df = pd.read_csv('/content/drive/MyDrive/294/Data_API.csv')\n",
        "categories = df[\"Category\"].unique()\n",
        "for category in categories:\n",
        "    globals()[category.lower() + \"_data\"] = df[df[\"Category\"] == category]\n",
        "\n",
        "# find art NFTs that have been sold more than once\n",
        "art_data_by_id = art_data.groupby(\"Unique_id_collection\").count()\n",
        "art_data_by_id = art_data_by_id[art_data_by_id[\"Collection_cleaned\"] > 1]\n",
        "ids_sold_more_than_once = art_data_by_id.index\n",
        "\n",
        "# Construct a new dataframe that contains past transaction info\n",
        "art_data_sold_more_than_once = art_data[art_data[\"Unique_id_collection\"].isin(ids_sold_more_than_once)]\n",
        "art_data_sold_more_than_once = art_data_sold_more_than_once.sort_values([\"Unique_id_collection\", \"Datetime_updated_seconds\"], ascending = True).reset_index()\n",
        "art_data_sold_more_than_once[\"Past_Price_USD\"] = [list(art_data_sold_more_than_once[\"Price_USD\"])[-1]] + list(art_data_sold_more_than_once[\"Price_USD\"])[0:-1]\n",
        "art_data_sold_more_than_once[\"Past_Datetime_updated\"] = [list(art_data_sold_more_than_once[\"Datetime_updated\"])[-1]] + list(art_data_sold_more_than_once[\"Datetime_updated\"])[0:-1]\n",
        "art_data_sold_more_than_once[\"Days_Since_Last_Sell\"] = pd.to_datetime(art_data_sold_more_than_once['Datetime_updated']) - pd.to_datetime(art_data_sold_more_than_once['Past_Datetime_updated'])\n",
        "# art_data_sold_more_than_once = art_data_sold_more_than_once[[\"Unique_id_collection\", \"Image_url_1\", \"Collection_cleaned\", \"Past_Price_USD\", \"Price_USD\", \"Datetime_updated\", \"Days_Since_Last_Sell\"]]\n",
        "art_data_sold_more_than_once = art_data_sold_more_than_once[art_data_sold_more_than_once['Unique_id_collection'].duplicated()]\n",
        "\n",
        "# filter out invalid urls\n",
        "art_data_sold_more_than_once = art_data_sold_more_than_once[art_data_sold_more_than_once['Image_url_1'].str.contains(\"https\", na=False)]\n",
        "art_data_sold_more_than_once = art_data_sold_more_than_once.dropna().sample(n = 50000, replace = False)\n",
        "art_data_sold_more_than_once = art_data_sold_more_than_once.reset_index().drop(columns = [\"index\"])\n",
        "display(art_data_sold_more_than_once)\n",
        "\n",
        "# Save it to CSV\n",
        "# art_data_sold_more_than_once.to_csv('/content/drive/MyDrive/294/Art Sample.csv', index = False) "
      ]
    },
    {
      "cell_type": "code",
      "execution_count": null,
      "metadata": {
        "id": "9BstbbT3VDr-"
      },
      "outputs": [],
      "source": [
        "# create one hot \n",
        "data = pd.read_csv('/content/drive/MyDrive/294/Art Sample.csv')\n",
        "data = data[[\"Unique_id_collection\", \"Image_url_1\", \"Collection_cleaned\", \"Past_Price_USD\", \"Price_USD\", \"Datetime_updated\", \"Days_Since_Last_Sell\"]]\n",
        "display(data)\n",
        "\n",
        "def create_onehot(data, columns):\n",
        "    columns = sorted(columns)\n",
        "    for column in columns:\n",
        "        values = data[column].unique()\n",
        "        for value in values:\n",
        "        # for value in values:\n",
        "            data[column + \"=\" + str(value)] = (data[column] == value).astype(int)\n",
        "        data = data.drop(column, axis = 1)\n",
        "    return data\n",
        "data = create_onehot(data, [\"Collection_cleaned\"])\n",
        "data[\"Days_Since_Last_Sell\"] = data[\"Days_Since_Last_Sell\"].str.split(\" \").str[0]\n",
        "# data.to_csv('/content/drive/MyDrive/294/One Hot Sample.csv', index = False) "
      ]
    },
    {
      "cell_type": "code",
      "execution_count": null,
      "metadata": {
        "id": "0dAhDN15Sg5z"
      },
      "outputs": [],
      "source": [
        "# helper function return boolean indicate whether or not it is a GIF\n",
        "def not_GIF(url):\n",
        "    r = requests.get(url)\n",
        "    image_type = r.headers['Content-Type'].split(\"/\")[-1]\n",
        "    if image_type == \"gif\":\n",
        "        return False\n",
        "    else:\n",
        "        return True"
      ]
    },
    {
      "cell_type": "code",
      "execution_count": null,
      "metadata": {
        "id": "RBFy58RQTCNZ"
      },
      "outputs": [],
      "source": [
        "# Visualize data: display image from the url\n",
        "data = pd.read_csv('/content/drive/MyDrive/294/One Hot Sample.csv')\n",
        "\n",
        "def path_to_image_html(path):\n",
        "    return '<img src=\"'+ path + '\" width=\"60\" >'\n",
        "\n",
        "pd.set_option('display.max_colwidth', None)\n",
        "image_cols = ['Image_url_1']  #<- define which columns will be used to convert to html\n",
        "\n",
        "# Create the dictionariy to be passed as formatters\n",
        "format_dict = {}\n",
        "for image_col in image_cols:\n",
        "    format_dict[image_col] = path_to_image_html\n",
        "\n",
        "display(HTML(data[:100].to_html(escape=False ,formatters=format_dict)))"
      ]
    },
    {
      "cell_type": "code",
      "execution_count": null,
      "metadata": {
        "colab": {
          "base_uri": "https://localhost:8080/"
        },
        "id": "cJro2y6eYhTF",
        "outputId": "8e2180c4-ac85-4b7c-8df1-648017351fd2"
      },
      "outputs": [
        {
          "name": "stderr",
          "output_type": "stream",
          "text": [
            "/usr/local/lib/python3.7/dist-packages/PIL/Image.py:960: UserWarning: Palette images with Transparency expressed in bytes should be converted to RGBA images\n",
            "  \"Palette images with Transparency expressed in bytes should be \"\n"
          ]
        }
      ],
      "source": [
        "# # Save image for training\n",
        "data = pd.read_csv('/content/drive/MyDrive/294/One Hot Sample.csv')\n",
        "train_unique_image_ids = list(data[\"Unique_id_collection\"].unique())\n",
        "invalid_ids = []\n",
        "destination = '/content/drive/MyDrive/294/Images'\n",
        "for ID in train_unique_image_ids:\n",
        "  try:\n",
        "    url = data.loc[data.Unique_id_collection==ID].iloc[0,1]\n",
        "    response = requests.get(url)\n",
        "    img = Image.open(BytesIO(response.content))\n",
        "    nft_RGB = img.convert('RGB')\n",
        "    nft_RGB.save(destination+'/'+ID+'.png')\n",
        "  except:\n",
        "    invalid_ids.append(ID)"
      ]
    },
    {
      "cell_type": "code",
      "execution_count": null,
      "metadata": {
        "colab": {
          "base_uri": "https://localhost:8080/"
        },
        "id": "ED06kZV2uZqn",
        "outputId": "bedf4227-fd71-42d5-ee09-37c48f05d437"
      },
      "outputs": [
        {
          "name": "stdout",
          "output_type": "stream",
          "text": [
            "filenum: 36471\n"
          ]
        }
      ],
      "source": [
        "path = '/content/drive/MyDrive/294/Images'\n",
        "print('filenum:',len([lists for lists in os.listdir(path) if os.path.isfile(os.path.join(path, lists))]))"
      ]
    },
    {
      "cell_type": "code",
      "execution_count": null,
      "metadata": {
        "colab": {
          "base_uri": "https://localhost:8080/",
          "height": 733
        },
        "id": "Y0sdydnGJiol",
        "outputId": "f2d8a5c1-4743-4bfc-9878-63d923149861"
      },
      "outputs": [
        {
          "data": {
            "text/plain": [
              "<matplotlib.axes._subplots.AxesSubplot at 0x7f64d0e97cd0>"
            ]
          },
          "execution_count": 23,
          "metadata": {},
          "output_type": "execute_result"
        },
        {
          "data": {
            "image/png": "[encoded data removed]",
            "text/plain": [
              "<Figure size 1728x864 with 1 Axes>"
            ]
          },
          "metadata": {},
          "output_type": "display_data"
        }
      ],
      "source": [
        "# Generate Sampled Art NFTs Price Distributution Plot\n",
        "plt.figure(figsize=(24,12))  \n",
        "df = pd.read_csv('/content/drive/MyDrive/294/One Hot Sample.csv').iloc[:1000]\n",
        "sns.boxplot(data=df, x='Price_USD',  showfliers = False)\n"
      ]
    },
    {
      "cell_type": "markdown",
      "metadata": {
        "id": "dBvTXMu3YDKG"
      },
      "source": [
        "# **Step 2**: Model Training (without image features extraction)\n",
        "These following models will be used:\n",
        "\n",
        "1. Linear Regression\n",
        "*   without image info\n",
        "\n",
        "2. Random Forest\n",
        "*   without image info\n"
      ]
    },
    {
      "cell_type": "code",
      "execution_count": null,
      "metadata": {
        "id": "2NQavX0xiwoD"
      },
      "outputs": [],
      "source": [
        "data = pd.read_csv('/content/drive/MyDrive/294/AlexNet Data.csv').dropna()\n",
        "X = data.iloc[:, :84]\n",
        "X = X.drop(columns = [\"Unique_id_collection\", \"Image_url_1\", \"Price_USD\", \"Image_path\"])\n",
        "\n",
        "# log transformation\n",
        "X_past_price = np.log(data[\"Past_Price_USD\"])\n",
        "y = np.log(data[\"Price_USD\"])\n",
        "\n",
        "# Standardization\n",
        "X = X.drop(columns = [\"Past_Price_USD\"])\n",
        "transformer = sklearn.preprocessing.RobustScaler().fit(X)\n",
        "X = transformer.transform(X)\n",
        "X = np.column_stack((X, X_past_price))\n",
        "X_train, X_test, y_train, y_test = train_test_split(X, y, test_size = 0.2, shuffle=True, random_state = 0)\n",
        "\n",
        "# Remove outliears\n",
        "X_train = pd.DataFrame(X_train)\n",
        "y_train = y_train.reset_index(drop=True)\n",
        "train_data_concat = pd.concat([X_train, y_train], axis = 1)\n",
        "train_data_concat = train_data_concat[(train_data_concat['Price_USD'] >= np.percentile(train_data_concat['Price_USD'], 1)) & (train_data_concat['Price_USD'] <= np.percentile(train_data_concat['Price_USD'], 99))]\n",
        "X_train = np.array(train_data_concat.drop(columns = [\"Price_USD\"]))\n",
        "y_train = np.array(train_data_concat[\"Price_USD\"])"
      ]
    },
    {
      "cell_type": "code",
      "execution_count": null,
      "metadata": {
        "id": "MAYkqfx1i8bW"
      },
      "outputs": [],
      "source": [
        "def ReLU(x):\n",
        "  return np.maximum(x, 0, x)\n",
        "\n",
        "def R_sqaured(actual, predict):\n",
        "  corr_matrix = np.corrcoef(actual, predict)\n",
        "  corr = corr_matrix[0,1]\n",
        "  R_sq = corr**2\n",
        "  return R_sq\n",
        "\n",
        "def rmse(a, b):\n",
        "    return float(np.sqrt(((a - b) ** 2).mean()))"
      ]
    },
    {
      "cell_type": "markdown",
      "metadata": {
        "id": "1KyY-hboi1wO"
      },
      "source": [
        "## Linear regression with and without l1"
      ]
    },
    {
      "cell_type": "code",
      "execution_count": null,
      "metadata": {
        "colab": {
          "base_uri": "https://localhost:8080/"
        },
        "id": "M8pLrTfoi1CR",
        "outputId": "b4cc03aa-ed20-4ac3-be6b-4b4a2564c9fd"
      },
      "outputs": [
        {
          "name": "stdout",
          "output_type": "stream",
          "text": [
            "Train R2: 0.5749130021752159\n",
            "Test R2: 0.31111085752086987\n",
            "Train R2 before log transform: 0.9127358911549781\n",
            "Test R2 before log transform: 0.005589835952854143\n",
            "Train RMSE:  457.60817448099095\n",
            "Test RMSE:  2240.2431080337633\n"
          ]
        }
      ],
      "source": [
        "# without l1\n",
        "from sklearn.linear_model import LinearRegression\n",
        "\n",
        "lr = LinearRegression(fit_intercept = True, normalize = 'deprecated', copy_X = True, n_jobs = None, positive = False)\n",
        "lr.fit(X_train, y_train)\n",
        "r2_train = R_sqaured(np.exp(y_train), np.exp(lr.predict(X_train)))\n",
        "r2_test = R_sqaured(np.exp(y_test), np.exp(lr.predict(X_test)))\n",
        "r2_train_1 = R_sqaured((y_train), (lr.predict(X_train)))\n",
        "r2_test_1 = R_sqaured((y_test), (lr.predict(X_test)))\n",
        "\n",
        "print(\"Train R2:\", r2_train)\n",
        "print(\"Test R2:\", r2_test)\n",
        "print(\"Train R2 before log transform:\", r2_train_1)\n",
        "print(\"Test R2 before log transform:\", r2_test_1)\n",
        "print(\"Train RMSE: \", rmse(np.exp(y_train), np.exp(lr.predict(X_train))))\n",
        "print(\"Test RMSE: \", rmse(np.exp(y_test), np.exp(lr.predict(X_test))))"
      ]
    },
    {
      "cell_type": "code",
      "execution_count": null,
      "metadata": {
        "colab": {
          "base_uri": "https://localhost:8080/"
        },
        "id": "ngclcn4MjBG5",
        "outputId": "485412b6-9392-4b1f-c482-20c03f88c9eb"
      },
      "outputs": [
        {
          "name": "stdout",
          "output_type": "stream",
          "text": [
            "Train R2: 0.4327041614330994\n",
            "Test R2: 0.24490623367757133\n",
            "Train R2 before log transform: 0.9023980010735688\n",
            "Test R2 before log transform: 0.8549395708560634\n",
            "Train RMSE:  507.10716678664704\n",
            "Test RMSE:  2354.530747612105\n"
          ]
        }
      ],
      "source": [
        "# with l1\n",
        "from sklearn.linear_model import Lasso\n",
        "from sklearn.pipeline import make_pipeline\n",
        "\n",
        "lr = Lasso(alpha=0.05, normalize = 'deprecated', max_iter=1000)\n",
        "lr.fit(X_train, y_train)\n",
        "r2_train = R_sqaured(np.exp(y_train), np.exp(lr.predict(X_train)))\n",
        "r2_test = R_sqaured(np.exp(y_test), np.exp(lr.predict(X_test)))\n",
        "r2_train_1 = R_sqaured((y_train), (lr.predict(X_train)))\n",
        "r2_test_1 = R_sqaured((y_test), (lr.predict(X_test)))\n",
        "\n",
        "print(\"Train R2:\", r2_train)\n",
        "print(\"Test R2:\", r2_test)\n",
        "print(\"Train R2 before log transform:\", r2_train_1)\n",
        "print(\"Test R2 before log transform:\", r2_test_1)\n",
        "print(\"Train RMSE: \", rmse(np.exp(y_train), np.exp(lr.predict(X_train))))\n",
        "print(\"Test RMSE: \", rmse(np.exp(y_test), np.exp(lr.predict(X_test))))"
      ]
    },
    {
      "cell_type": "markdown",
      "metadata": {
        "id": "8o2JyzI5jJ5j"
      },
      "source": [
        "## Random forest"
      ]
    },
    {
      "cell_type": "code",
      "execution_count": null,
      "metadata": {
        "colab": {
          "base_uri": "https://localhost:8080/"
        },
        "id": "m0BzhGNwjGkU",
        "outputId": "10483ed1-e87d-42c6-b8b2-f80b6c13f1fa"
      },
      "outputs": [
        {
          "name": "stdout",
          "output_type": "stream",
          "text": [
            "Train R2: 0.868382342615532\n",
            "Test R2: 0.16591656082341996\n",
            "Train R2 before log transform: 0.9759245346036437\n",
            "Test R2 before log transform: 0.8986533771237671\n",
            "Train RMSE:  248.12882117546496\n",
            "Test RMSE:  2441.6841200900685\n"
          ]
        }
      ],
      "source": [
        "from sklearn.ensemble import RandomForestRegressor\n",
        "rf = RandomForestRegressor(max_depth = 15)\n",
        "rf.fit(X_train, y_train)\n",
        "r2_train = R_sqaured(np.exp(y_train), np.exp(rf.predict(X_train)))\n",
        "r2_test = R_sqaured(np.exp(y_test), np.exp(rf.predict(X_test)))\n",
        "r2_train_1 = R_sqaured((y_train), (rf.predict(X_train)))\n",
        "print(\"Train R2:\", r2_train)\n",
        "print(\"Test R2:\", r2_test)\n",
        "print(\"Train R2 before log transform:\", r2_train_1)\n",
        "print(\"Test R2 before log transform:\", r2_test_1)\n",
        "print(\"Train RMSE: \", rmse(np.exp(y_train), np.exp(rf.predict(X_train))))\n",
        "print(\"Test RMSE: \", rmse(np.exp(y_test), np.exp(rf.predict(X_test))))"
      ]
    },
    {
      "cell_type": "markdown",
      "metadata": {
        "id": "dCP0zH3Bncth"
      },
      "source": [
        "# **Step 3**: Picture Feature Extraction using AlexNet\n"
      ]
    },
    {
      "cell_type": "code",
      "execution_count": null,
      "metadata": {
        "id": "zJ-r_CrngEer"
      },
      "outputs": [],
      "source": [
        "class MyDataset(Dataset):\n",
        "    def __init__(self, filenames, transform):\n",
        "        self.filenames = filenames\n",
        "        self.transform = transform\n",
        "        \n",
        "    def __len__(self):\n",
        "        return len(self.filenames)\n",
        " \n",
        "    # try except must included to handle the case where some images are not available (size too big!)\n",
        "    def __getitem__(self, idx):\n",
        "        try:\n",
        "          image = Image.open(self.filenames[idx]).convert('RGB')\n",
        "          image = self.transform(image)\n",
        "        except:\n",
        "          image = np.nan\n",
        "        return image"
      ]
    },
    {
      "cell_type": "code",
      "execution_count": null,
      "metadata": {
        "colab": {
          "base_uri": "https://localhost:8080/",
          "height": 105,
          "referenced_widgets": [
            "3b0de48d9fa54b3e8252cad3ab759003",
            "70d2913333aa44bb958515bd9f48672e",
            "7af9f4bec2494ce4b0f99fb9e12ff45a",
            "5b02cbe84b974308963a4ef457ccc460",
            "28376a38ae7d4368ab741e49d36d7730",
            "9e33dfedd28d4fa6b1aaa82beedd718b",
            "8011fd9bb5a1465c832f9629feb28e10",
            "2ee8824a8f5c4757865d147222adcfef",
            "148e8907153c48719a8166e0f9a99b55",
            "d303fb3582c148a9a145e5959d233cd4",
            "0553689f79b04a96a617776ccda4b287"
          ]
        },
        "id": "pF5lzTSWRado",
        "outputId": "2a501dd4-64d2-41e2-e406-2f9f2c47dff7"
      },
      "outputs": [
        {
          "name": "stderr",
          "output_type": "stream",
          "text": [
            "Downloading: \"https://download.pytorch.org/models/alexnet-owt-7be5be79.pth\" to /root/.cache/torch/hub/checkpoints/alexnet-owt-7be5be79.pth\n"
          ]
        },
        {
          "data": {
            "application/vnd.jupyter.widget-view+json": {
              "model_id": "3b0de48d9fa54b3e8252cad3ab759003",
              "version_major": 2,
              "version_minor": 0
            },
            "text/plain": [
              "  0%|          | 0.00/233M [00:00<?, ?B/s]"
            ]
          },
          "metadata": {},
          "output_type": "display_data"
        },
        {
          "name": "stderr",
          "output_type": "stream",
          "text": [
            "/usr/local/lib/python3.7/dist-packages/ipykernel_launcher.py:57: PerformanceWarning: DataFrame is highly fragmented.  This is usually the result of calling `frame.insert` many times, which has poor performance.  Consider joining all columns at once using pd.concat(axis=1) instead.  To get a de-fragmented frame, use `newframe = frame.copy()`\n"
          ]
        }
      ],
      "source": [
        "# 3 AlexNet \n",
        "\n",
        "# Load Data choose data segment\n",
        "destination = '/content/drive/MyDrive/294/Images/'\n",
        "data = pd.read_csv('/content/drive/MyDrive/294/One Hot Sample.csv')\n",
        "\n",
        "# Convert datetime to number\n",
        "data[\"Datetime_updated\"] = pd.to_datetime(data[\"Datetime_updated\"])\n",
        "data[\"Datetime_updated\"] = data[\"Datetime_updated\"].map(dt.datetime.toordinal)\n",
        "\n",
        "# Add new column to indicate the path to NFTs\n",
        "data[\"Image_path\"] = destination + data[\"Unique_id_collection\"] + '.png'\n",
        "\n",
        "# Define the number of classifiers after the Alexnet\n",
        "NUM_OF_CLASS = 1000\n",
        "\n",
        "# Define transformer\n",
        "transformer = transforms.Compose([\n",
        "    transforms.Resize((224,224)),\n",
        "    transforms.ToTensor(),\n",
        "    ])\n",
        "\n",
        "# Setup dataloader\n",
        "image_inputs = list(data[\"Image_path\"])\n",
        "image_dataset = MyDataset(image_inputs, transformer)\n",
        "dataloader = DataLoader(image_dataset, shuffle = False)\n",
        "\n",
        "# Define device\n",
        "device = torch.device(\"cuda:0\" if torch.cuda.is_available() else \"cpu\")\n",
        "\n",
        "# Setup Alexnet\n",
        "alexnet = models.alexnet(pretrained = True)\n",
        "alexnet.to(device)\n",
        "\n",
        "# Pass each image in to the alexnet\n",
        "Image_info = []\n",
        "for i, (image) in enumerate(dataloader):\n",
        "  try:\n",
        "    # output_tensor = alexnet(image)\n",
        "    output_tensor = alexnet(image.to(device))\n",
        "    output_arr = output_tensor.detach().flatten().tolist()\n",
        "    Image_info.append(output_arr)\n",
        "  except:\n",
        "    Image_info.append([np.nan] * NUM_OF_CLASS)\n",
        "\n",
        "# Transpose the list in oreder to add them as columns to dataframe\n",
        "Image_info = np.array(Image_info).T.tolist()\n",
        "\n",
        "# Upadate dataframe\n",
        "for i in range(NUM_OF_CLASS):\n",
        "  data[\"Image_class_\" + str(i)] = Image_info[i]\n",
        "  \n",
        "# display(data)\n",
        "data.to_csv('/content/drive/MyDrive/294/AlexNet Data.csv', index = False) "
      ]
    },
    {
      "cell_type": "code",
      "execution_count": null,
      "metadata": {
        "id": "_SYSDWYQ7zh3"
      },
      "outputs": [],
      "source": [
        "# 3 EfficientNet\n",
        "\n",
        "# Load Data choose data segment\n",
        "destination = '/content/drive/MyDrive/294/Images/'\n",
        "data = pd.read_csv('/content/drive/MyDrive/294/One Hot Sample.csv')\n",
        "\n",
        "# Convert datetime to number\n",
        "data[\"Datetime_updated\"] = pd.to_datetime(data[\"Datetime_updated\"])\n",
        "data[\"Datetime_updated\"] = data[\"Datetime_updated\"].map(dt.datetime.toordinal)\n",
        "\n",
        "# Add new column to indicate the path to NFTs\n",
        "data[\"Image_path\"] = destination + data[\"Unique_id_collection\"] + '.png'\n",
        "\n",
        "# Define the number of classifiers after the EfficientNet\n",
        "NUM_OF_CLASS = 1000\n",
        "\n",
        "# Define transformer\n",
        "transformer = transforms.Compose([\n",
        "    transforms.Resize((224,224)),\n",
        "    transforms.ToTensor(),\n",
        "    ])\n",
        "\n",
        "# Setup dataloader\n",
        "image_inputs = list(data[\"Image_path\"])\n",
        "image_dataset = MyDataset(image_inputs, transformer)\n",
        "dataloader = DataLoader(image_dataset, shuffle = False)\n",
        "\n",
        "# Define device\n",
        "device = torch.device(\"cuda:0\" if torch.cuda.is_available() else \"cpu\")\n",
        "\n",
        "# Setup EfficientNet\n",
        "efficientnet_b7 = models.efficientnet_b7()\n",
        "efficientnet_b7.to(device)\n",
        "\n",
        "# Pass each image in to the EfficientNet\n",
        "Image_info = []\n",
        "for i, (image) in enumerate(dataloader):\n",
        "  try:\n",
        "    output_tensor = efficientnet_b7(image.to(device))\n",
        "    output_arr = output_tensor.detach().flatten().tolist()\n",
        "    Image_info.append(output_arr)\n",
        "  except:\n",
        "    Image_info.append([np.nan] * NUM_OF_CLASS)\n",
        "\n",
        "# Transpose the list in oreder to add them as columns to dataframe\n",
        "Image_info = np.array(Image_info).T.tolist()\n",
        "\n",
        "# Upadate dataframe\n",
        "for i in range(NUM_OF_CLASS):\n",
        "  data[\"Image_class_\" + str(i)] = Image_info[i]\n",
        "  \n",
        "data.to_csv('/content/drive/MyDrive/294/EfficientNet Data.csv', index = False) "
      ]
    },
    {
      "cell_type": "code",
      "execution_count": null,
      "metadata": {
        "id": "lO3ikaiW8ffO"
      },
      "outputs": [],
      "source": [
        "# 3 ResNet\n",
        "\n",
        "# Load Data choose data segment\n",
        "destination = '/content/drive/MyDrive/294/Images/'\n",
        "data = pd.read_csv('/content/drive/MyDrive/294/One Hot Sample.csv')\n",
        "\n",
        "# Convert datetime to number\n",
        "data[\"Datetime_updated\"] = pd.to_datetime(data[\"Datetime_updated\"])\n",
        "data[\"Datetime_updated\"] = data[\"Datetime_updated\"].map(dt.datetime.toordinal)\n",
        "\n",
        "# Add new column to indicate the path to NFTs\n",
        "data[\"Image_path\"] = destination + data[\"Unique_id_collection\"] + '.png'\n",
        "\n",
        "# Define the number of classifiers after the ResNet\n",
        "NUM_OF_CLASS = 1000\n",
        "\n",
        "# Define transformer\n",
        "transformer = transforms.Compose([\n",
        "    transforms.Resize((224,224)),\n",
        "    transforms.ToTensor(),\n",
        "    ])\n",
        "\n",
        "# Setup dataloader\n",
        "image_inputs = list(data[\"Image_path\"])\n",
        "image_dataset = MyDataset(image_inputs, transformer)\n",
        "dataloader = DataLoader(image_dataset, shuffle = False)\n",
        "\n",
        "# Define device\n",
        "device = torch.device(\"cuda:0\" if torch.cuda.is_available() else \"cpu\")\n",
        "\n",
        "# Setup EfficientNet\n",
        "resnet50 = models.resnet50()\n",
        "resnet50.to(device)\n",
        "\n",
        "# Pass each image in to the EfficientNet\n",
        "Image_info = []\n",
        "for i, (image) in enumerate(dataloader):\n",
        "  try:\n",
        "    output_tensor = resnet50(image.to(device))\n",
        "    output_arr = output_tensor.detach().flatten().tolist()\n",
        "    Image_info.append(output_arr)\n",
        "  except:\n",
        "    Image_info.append([np.nan] * NUM_OF_CLASS)\n",
        "\n",
        "# Transpose the list in oreder to add them as columns to dataframe\n",
        "Image_info = np.array(Image_info).T.tolist()\n",
        "\n",
        "# Upadate dataframe\n",
        "for i in range(NUM_OF_CLASS):\n",
        "  data[\"Image_class_\" + str(i)] = Image_info[i]\n",
        "  \n",
        "# display(data)\n",
        "data.to_csv('/content/drive/MyDrive/294/ResNet Data.csv', index = False) "
      ]
    },
    {
      "cell_type": "code",
      "execution_count": null,
      "metadata": {
        "id": "trDyzd3CnsS3"
      },
      "outputs": [],
      "source": [
        "print(\"pretrained = false\")\n",
        "children_counter = 0\n",
        "alexnet = models.alexnet(pretrained = False)\n",
        "for n,c in alexnet.named_children():\n",
        "    print(\"Children Counter: \",children_counter,\" Layer Name: \",n,)\n",
        "    children_counter+=1\n",
        "display(alexnet._modules)\n",
        "\n",
        "print(\"pretrained = true\")\n",
        "children_counter = 0\n",
        "alexnet = models.alexnet(pretrained = True)\n",
        "for n,c in alexnet.named_children():\n",
        "    print(\"Children Counter: \",children_counter,\" Layer Name: \",n,)\n",
        "    children_counter+=1\n",
        "display(alexnet._modules)\n",
        "\n",
        "print(\"pretrained = false\")\n",
        "children_counter = 0\n",
        "efficientnet_b7 = models.efficientnet_b7(pretrained = False)\n",
        "for n,c in efficientnet_b7.named_children():\n",
        "    print(\"Children Counter: \",children_counter,\" Layer Name: \",n,)\n",
        "    children_counter+=1\n",
        "display(efficientnet_b7._modules)\n",
        "\n",
        "print(\"pretrained = true\")\n",
        "children_counter = 0\n",
        "efficientnet_b7 = models.efficientnet_b7(pretrained = True)\n",
        "for n,c in efficientnet_b7.named_children():\n",
        "    print(\"Children Counter: \",children_counter,\" Layer Name: \",n,)\n",
        "    children_counter+=1\n",
        "display(efficientnet_b7._modules)\n",
        "\n",
        "print(\"pretrained = false\")\n",
        "children_counter = 0\n",
        "resnet50 = models.resnet50(pretrained = False)\n",
        "for n,c in resnet50.named_children():\n",
        "    print(\"Children Counter: \",children_counter,\" Layer Name: \",n,)\n",
        "    children_counter+=1\n",
        "display(resnet50._modules)\n",
        "\n",
        "print(\"pretrained = true\")\n",
        "children_counter = 0\n",
        "resnet50 = models.resnet50(pretrained = True)\n",
        "for n,c in resnet50.named_children():\n",
        "    print(\"Children Counter: \",children_counter,\" Layer Name: \",n,)\n",
        "    children_counter+=1\n",
        "display(resnet50._modules)\n"
      ]
    },
    {
      "cell_type": "markdown",
      "metadata": {
        "id": "tKLI-xjNn81L"
      },
      "source": [
        "# **Step 4**: Model Training (without image features extraction)"
      ]
    },
    {
      "cell_type": "code",
      "execution_count": null,
      "metadata": {
        "id": "CxZsSpJAkK5-"
      },
      "outputs": [],
      "source": [
        "data = pd.read_csv('/content/drive/MyDrive/294/AlexNet Data.csv').dropna()\n",
        "X = data.drop(columns = [\"Unique_id_collection\", \"Image_url_1\", \"Price_USD\", \"Image_path\"])\n",
        "X_past_price = np.log(data[\"Past_Price_USD\"])\n",
        "y = np.log(data[\"Price_USD\"])\n",
        "\n",
        "# Standardization\n",
        "X = X.drop(columns = [\"Past_Price_USD\"])\n",
        "transformer = sklearn.preprocessing.RobustScaler().fit(X)\n",
        "X = transformer.transform(X)\n",
        "X = np.column_stack((X, X_past_price))\n",
        "X_train, X_test, y_train, y_test = train_test_split(X, y, test_size = 0.2, shuffle=True, random_state = 42)\n",
        "\n",
        "# Remove outliears\n",
        "X_train = pd.DataFrame(X_train)\n",
        "y_train = y_train.reset_index(drop=True)\n",
        "train_data_concat = pd.concat([X_train, y_train], axis = 1)\n",
        "train_data_concat = train_data_concat[(train_data_concat['Price_USD'] >= np.percentile(train_data_concat['Price_USD'], 1)) & (train_data_concat['Price_USD'] <= np.percentile(train_data_concat['Price_USD'], 99))]\n",
        "X_train = np.array(train_data_concat.drop(columns = [\"Price_USD\"]))\n",
        "y_train = np.array(train_data_concat[\"Price_USD\"])"
      ]
    },
    {
      "cell_type": "code",
      "execution_count": null,
      "metadata": {
        "colab": {
          "base_uri": "https://localhost:8080/"
        },
        "id": "OrVX6gubkOSY",
        "outputId": "794e4bbb-d4f8-45a5-c426-3fd031123d7a"
      },
      "outputs": [
        {
          "name": "stdout",
          "output_type": "stream",
          "text": [
            "Train R2: 0.6161956183958905\n",
            "Test R2: 0.5010648166954372\n",
            "Train R2 before log transform: 0.9092284375553904\n",
            "Test R2 before log transform: 0.0018372890264789906\n",
            "Train RMSE:  417.7238111062014\n",
            "Test RMSE:  1328.5491353490586\n"
          ]
        }
      ],
      "source": [
        "# without l1\n",
        "from sklearn.linear_model import LinearRegression\n",
        "\n",
        "lr = LinearRegression(fit_intercept = True, normalize = 'deprecated', copy_X = True, n_jobs = None, positive = False)\n",
        "lr.fit(X_train, y_train)\n",
        "r2_train = R_sqaured(np.exp(y_train), np.exp(lr.predict(X_train)))\n",
        "r2_test = R_sqaured(np.exp(y_test), np.exp(lr.predict(X_test)))\n",
        "r2_train_1 = R_sqaured((y_train), (lr.predict(X_train)))\n",
        "r2_test_1 = R_sqaured((y_test), (lr.predict(X_test)))\n",
        "\n",
        "print(\"Train R2:\", r2_train)\n",
        "print(\"Test R2:\", r2_test)\n",
        "print(\"Train R2 before log transform:\", r2_train_1)\n",
        "print(\"Test R2 before log transform:\", r2_test_1)\n",
        "print(\"Train RMSE: \", rmse(np.exp(y_train), np.exp(lr.predict(X_train))))\n",
        "print(\"Test RMSE: \", rmse(np.exp(y_test), np.exp(lr.predict(X_test))))"
      ]
    },
    {
      "cell_type": "code",
      "execution_count": null,
      "metadata": {
        "colab": {
          "base_uri": "https://localhost:8080/"
        },
        "id": "iysPOuM_kRf_",
        "outputId": "720b6f82-aa3f-4a6a-b5c5-1ec616b4ae93"
      },
      "outputs": [
        {
          "name": "stdout",
          "output_type": "stream",
          "text": [
            "Train R2: 0.43543399935775123\n",
            "Test R2: 0.39574858692092096\n",
            "Train R2 before log transform: 0.8849478384317103\n",
            "Test R2 before log transform: 0.8914575505137756\n",
            "Train RMSE:  493.32839416298566\n",
            "Test RMSE:  1447.9929725582322\n"
          ]
        }
      ],
      "source": [
        "# with l1\n",
        "from sklearn.linear_model import Lasso\n",
        "from sklearn.pipeline import make_pipeline\n",
        "\n",
        "lr = Lasso(alpha=0.2, normalize = 'deprecated', max_iter=1000)\n",
        "lr.fit(X_train, y_train)\n",
        "r2_train = R_sqaured(np.exp(y_train), np.exp(lr.predict(X_train)))\n",
        "r2_test = R_sqaured(np.exp(y_test), np.exp(lr.predict(X_test)))\n",
        "r2_train_1 = R_sqaured((y_train), (lr.predict(X_train)))\n",
        "r2_test_1 = R_sqaured((y_test), (lr.predict(X_test)))\n",
        "\n",
        "print(\"Train R2:\", r2_train)\n",
        "print(\"Test R2:\", r2_test)\n",
        "print(\"Train R2 before log transform:\", r2_train_1)\n",
        "print(\"Test R2 before log transform:\", r2_test_1)\n",
        "print(\"Train RMSE: \", rmse(np.exp(y_train), np.exp(lr.predict(X_train))))\n",
        "print(\"Test RMSE: \", rmse(np.exp(y_test), np.exp(lr.predict(X_test))))"
      ]
    },
    {
      "cell_type": "code",
      "execution_count": null,
      "metadata": {
        "colab": {
          "base_uri": "https://localhost:8080/"
        },
        "id": "VPMvFs2okgkT",
        "outputId": "3cbe3a52-be71-4d85-89ce-62dc824d3f9f"
      },
      "outputs": [
        {
          "name": "stdout",
          "output_type": "stream",
          "text": [
            "Train R2: 0.8113539899127101\n",
            "Test R2: 0.37097827911028464\n",
            "Train R2 before log transform: 0.977251120829028\n",
            "Test R2 before log transform: 0.8697831231377205\n",
            "Train RMSE:  395.06384470431277\n",
            "Test RMSE:  1646.8507429739973\n"
          ]
        }
      ],
      "source": [
        "from sklearn.ensemble import RandomForestRegressor\n",
        "\n",
        "rf = RandomForestRegressor(max_depth = 5)\n",
        "rf.fit(X_train, y_train)\n",
        "r2_train = R_sqaured(np.exp(y_train), np.exp(rf.predict(X_train)))\n",
        "r2_test = R_sqaured(np.exp(y_test), np.exp(rf.predict(X_test)))\n",
        "r2_train_1 = R_sqaured((y_train), (rf.predict(X_train)))\n",
        "r2_test_1 = R_sqaured((y_test), (rf.predict(X_test)))\n",
        "\n",
        "print(\"Train R2:\", r2_train)\n",
        "print(\"Test R2:\", r2_test)\n",
        "print(\"Train R2 before log transform:\", r2_train_1)\n",
        "print(\"Test R2 before log transform:\", r2_test_1)\n",
        "print(\"Train RMSE: \", rmse(np.exp(y_train), np.exp(rf.predict(X_train))))\n",
        "print(\"Test RMSE: \", rmse(np.exp(y_test), np.exp(rf.predict(X_test))))"
      ]
    },
    {
      "cell_type": "code",
      "execution_count": null,
      "metadata": {
        "id": "-D6mrtsdklu6"
      },
      "outputs": [],
      "source": [
        "from sklearn.svm import SVR\n",
        "\n",
        "svr = SVR(kernel='rbf', degree=3, gamma='scale', coef0=0.0, tol=1e-5, C=100, epsilon=0.1, shrinking=True, cache_size=200, verbose=False, max_iter=-1)\n",
        "svr.fit(X_train, y_train)\n",
        "r2_train = R_sqaured(np.exp(y_train), np.exp(svr.predict(X_train)))\n",
        "r2_test = R_sqaured(np.exp(y_test), np.exp(svr.predict(X_test)))\n",
        "r2_train_1 = R_sqaured((y_train), (svr.predict(X_train)))\n",
        "r2_test_1 = R_sqaured((y_test), (svr.predict(X_test)))\n",
        "\n",
        "\n",
        "print(\"Train R2:\", r2_train)\n",
        "print(\"Test R2:\", r2_test)\n",
        "print(\"Train R2 before log transform:\", r2_train_1)\n",
        "print(\"Test R2 before log transform:\", r2_test_1)\n",
        "print(\"Train RMSE: \", rmse(y_train, np.exp(svr.predict(X_train))))\n",
        "print(\"Test RMSE: \", rmse(y_test, np.exp(svr.predict(X_test))))"
      ]
    },
    {
      "cell_type": "code",
      "execution_count": null,
      "metadata": {
        "colab": {
          "base_uri": "https://localhost:8080/"
        },
        "id": "-UrxIbM6kopJ",
        "outputId": "f7d8ab6e-d794-428b-d212-683a55be4e82"
      },
      "outputs": [
        {
          "name": "stdout",
          "output_type": "stream",
          "text": [
            "Train RMSE:  555.3592893127358\n",
            "Test RMSE:  1759.7551508664537\n"
          ]
        }
      ],
      "source": [
        "from sklearn.ensemble import AdaBoostRegressor\n",
        "\n",
        "adaB = AdaBoostRegressor(base_estimator=None, n_estimators=100, learning_rate=1.0, loss='linear', random_state=None)\n",
        "adaB.fit(X_train, y_train)\n",
        "r2_train = R_sqaured(np.exp(y_train), np.exp(adaB.predict(X_train)))\n",
        "r2_test = R_sqaured(np.exp(y_test), np.exp(adaB.predict(X_test)))\n",
        "r2_train_1 = R_sqaured((y_train), (adaB.predict(X_train)))\n",
        "r2_test_1 = R_sqaured((y_test), (adaB.predict(X_test)))\n",
        "\n",
        "\n",
        "print(\"Train R2:\", r2_train)\n",
        "print(\"Test R2:\", r2_test)\n",
        "print(\"Train R2 before log transform:\", r2_train_1)\n",
        "print(\"Test R2 before log transform:\", r2_test_1)\n",
        "print(\"Train RMSE: \", rmse(np.exp(y_train), np.exp(adaB.predict(X_train))))\n",
        "print(\"Test RMSE: \", rmse(np.exp(y_test), np.exp(adaB.predict(X_test))))"
      ]
    },
    {
      "cell_type": "code",
      "execution_count": null,
      "metadata": {
        "colab": {
          "background_save": true
        },
        "id": "Wli1EzjHkrxK",
        "outputId": "5fb583f0-98d1-45be-c029-113af7f86489"
      },
      "outputs": [
        {
          "name": "stdout",
          "output_type": "stream",
          "text": [
            "Train R2: 0.7715933187091767\n",
            "Test R2: 0.31727900982510865\n",
            "Train R2 before log transform: 0.9570024941374665\n",
            "Test R2 before log transform: 0.9001257410615332\n",
            "Train RMSE:  328.0606683500023\n",
            "Test RMSE:  1590.1283569401223\n"
          ]
        }
      ],
      "source": [
        "from sklearn.ensemble import GradientBoostingRegressor\n",
        "\n",
        "gdB = GradientBoostingRegressor(max_depth=5, max_features='auto', learning_rate=0.1)\n",
        "gdB.fit(X_train, y_train)\n",
        "r2_train = R_sqaured(np.exp(y_train), np.exp(gdB.predict(X_train)))\n",
        "r2_test = R_sqaured(np.exp(y_test), np.exp(gdB.predict(X_test)))\n",
        "r2_train_1 = R_sqaured((y_train), (gdB.predict(X_train)))\n",
        "r2_test_1 = R_sqaured((y_test), (gdB.predict(X_test)))\n",
        "\n",
        "\n",
        "print(\"Train R2:\", r2_train)\n",
        "print(\"Test R2:\", r2_test)\n",
        "print(\"Train R2 before log transform:\", r2_train_1)\n",
        "print(\"Test R2 before log transform:\", r2_test_1)\n",
        "print(\"Train RMSE: \", rmse(np.exp(y_train), np.exp(gdB.predict(X_train))))\n",
        "print(\"Test RMSE: \", rmse(np.exp(y_test), np.exp(gdB.predict(X_test))))"
      ]
    },
    {
      "cell_type": "code",
      "execution_count": null,
      "metadata": {
        "colab": {
          "base_uri": "https://localhost:8080/"
        },
        "id": "S0m2bAnNkuJO",
        "outputId": "809df6d3-dede-44b4-980f-c51b381c4473"
      },
      "outputs": [
        {
          "name": "stdout",
          "output_type": "stream",
          "text": [
            "Train R2: 0.8113539899127101\n",
            "Test R2: 0.37097827911028464\n",
            "Train R2 before log transform: 0.977251120829028\n",
            "Test R2 before log transform: 0.8697831231377205\n",
            "Train RMSE:  282.77488473492633\n",
            "Test RMSE:  1440.1435365937389\n"
          ]
        }
      ],
      "source": [
        "from sklearn.neural_network import MLPRegressor\n",
        "\n",
        "layers = (50,50,50,50,50,50,50)\n",
        "mlp = MLPRegressor(hidden_layer_sizes=layers, alpha=1e-5, learning_rate_init=1e-4, learning_rate='constant', max_iter=500, batch_size=1000)\n",
        "mlp.fit(X_train, y_train)\n",
        "r2_train = R_sqaured(np.exp(y_train), np.exp(mlp.predict(X_train)))\n",
        "r2_test = R_sqaured(np.exp(y_test), np.exp(mlp.predict(X_test)))\n",
        "r2_train_1 = R_sqaured((y_train), (mlp.predict(X_train)))\n",
        "r2_test_1 = R_sqaured((y_test), (mlp.predict(X_test)))\n",
        "\n",
        "\n",
        "print(\"Train R2:\", r2_train)\n",
        "print(\"Test R2:\", r2_test)\n",
        "print(\"Train R2 before log transform:\", r2_train_1)\n",
        "print(\"Test R2 before log transform:\", r2_test_1)\n",
        "print(\"Train RMSE: \", rmse(np.exp(y_train), np.exp(mlp.predict(X_train))))\n",
        "print(\"Test RMSE: \", rmse(np.exp(y_test), np.exp(mlp.predict(X_test))))"
      ]
    }
  ],
  "metadata": {
    "colab": {
      "collapsed_sections": [],
      "name": "294.ipynb",
      "provenance": []
    },
    "kernelspec": {
      "display_name": "Python 3",
      "name": "python3"
    },
    "language_info": {
      "name": "python"
    },
    "widgets": {
      "application/vnd.jupyter.widget-state+json": {
        "0553689f79b04a96a617776ccda4b287": {
          "model_module": "@jupyter-widgets/controls",
          "model_module_version": "1.5.0",
          "model_name": "DescriptionStyleModel",
          "state": {
            "_model_module": "@jupyter-widgets/controls",
            "_model_module_version": "1.5.0",
            "_model_name": "DescriptionStyleModel",
            "_view_count": null,
            "_view_module": "@jupyter-widgets/base",
            "_view_module_version": "1.2.0",
            "_view_name": "StyleView",
            "description_width": ""
          }
        },
        "148e8907153c48719a8166e0f9a99b55": {
          "model_module": "@jupyter-widgets/controls",
          "model_module_version": "1.5.0",
          "model_name": "ProgressStyleModel",
          "state": {
            "_model_module": "@jupyter-widgets/controls",
            "_model_module_version": "1.5.0",
            "_model_name": "ProgressStyleModel",
            "_view_count": null,
            "_view_module": "@jupyter-widgets/base",
            "_view_module_version": "1.2.0",
            "_view_name": "StyleView",
            "bar_color": null,
            "description_width": ""
          }
        },
        "28376a38ae7d4368ab741e49d36d7730": {
          "model_module": "@jupyter-widgets/base",
          "model_module_version": "1.2.0",
          "model_name": "LayoutModel",
          "state": {
            "_model_module": "@jupyter-widgets/base",
            "_model_module_version": "1.2.0",
            "_model_name": "LayoutModel",
            "_view_count": null,
            "_view_module": "@jupyter-widgets/base",
            "_view_module_version": "1.2.0",
            "_view_name": "LayoutView",
            "align_content": null,
            "align_items": null,
            "align_self": null,
            "border": null,
            "bottom": null,
            "display": null,
            "flex": null,
            "flex_flow": null,
            "grid_area": null,
            "grid_auto_columns": null,
            "grid_auto_flow": null,
            "grid_auto_rows": null,
            "grid_column": null,
            "grid_gap": null,
            "grid_row": null,
            "grid_template_areas": null,
            "grid_template_columns": null,
            "grid_template_rows": null,
            "height": null,
            "justify_content": null,
            "justify_items": null,
            "left": null,
            "margin": null,
            "max_height": null,
            "max_width": null,
            "min_height": null,
            "min_width": null,
            "object_fit": null,
            "object_position": null,
            "order": null,
            "overflow": null,
            "overflow_x": null,
            "overflow_y": null,
            "padding": null,
            "right": null,
            "top": null,
            "visibility": null,
            "width": null
          }
        },
        "2ee8824a8f5c4757865d147222adcfef": {
          "model_module": "@jupyter-widgets/base",
          "model_module_version": "1.2.0",
          "model_name": "LayoutModel",
          "state": {
            "_model_module": "@jupyter-widgets/base",
            "_model_module_version": "1.2.0",
            "_model_name": "LayoutModel",
            "_view_count": null,
            "_view_module": "@jupyter-widgets/base",
            "_view_module_version": "1.2.0",
            "_view_name": "LayoutView",
            "align_content": null,
            "align_items": null,
            "align_self": null,
            "border": null,
            "bottom": null,
            "display": null,
            "flex": null,
            "flex_flow": null,
            "grid_area": null,
            "grid_auto_columns": null,
            "grid_auto_flow": null,
            "grid_auto_rows": null,
            "grid_column": null,
            "grid_gap": null,
            "grid_row": null,
            "grid_template_areas": null,
            "grid_template_columns": null,
            "grid_template_rows": null,
            "height": null,
            "justify_content": null,
            "justify_items": null,
            "left": null,
            "margin": null,
            "max_height": null,
            "max_width": null,
            "min_height": null,
            "min_width": null,
            "object_fit": null,
            "object_position": null,
            "order": null,
            "overflow": null,
            "overflow_x": null,
            "overflow_y": null,
            "padding": null,
            "right": null,
            "top": null,
            "visibility": null,
            "width": null
          }
        },
        "3b0de48d9fa54b3e8252cad3ab759003": {
          "model_module": "@jupyter-widgets/controls",
          "model_module_version": "1.5.0",
          "model_name": "HBoxModel",
          "state": {
            "_dom_classes": [],
            "_model_module": "@jupyter-widgets/controls",
            "_model_module_version": "1.5.0",
            "_model_name": "HBoxModel",
            "_view_count": null,
            "_view_module": "@jupyter-widgets/controls",
            "_view_module_version": "1.5.0",
            "_view_name": "HBoxView",
            "box_style": "",
            "children": [
              "IPY_MODEL_70d2913333aa44bb958515bd9f48672e",
              "IPY_MODEL_7af9f4bec2494ce4b0f99fb9e12ff45a",
              "IPY_MODEL_5b02cbe84b974308963a4ef457ccc460"
            ],
            "layout": "IPY_MODEL_28376a38ae7d4368ab741e49d36d7730"
          }
        },
        "5b02cbe84b974308963a4ef457ccc460": {
          "model_module": "@jupyter-widgets/controls",
          "model_module_version": "1.5.0",
          "model_name": "HTMLModel",
          "state": {
            "_dom_classes": [],
            "_model_module": "@jupyter-widgets/controls",
            "_model_module_version": "1.5.0",
            "_model_name": "HTMLModel",
            "_view_count": null,
            "_view_module": "@jupyter-widgets/controls",
            "_view_module_version": "1.5.0",
            "_view_name": "HTMLView",
            "description": "",
            "description_tooltip": null,
            "layout": "IPY_MODEL_d303fb3582c148a9a145e5959d233cd4",
            "placeholder": "​",
            "style": "IPY_MODEL_0553689f79b04a96a617776ccda4b287",
            "value": " 233M/233M [00:02&lt;00:00, 120MB/s]"
          }
        },
        "70d2913333aa44bb958515bd9f48672e": {
          "model_module": "@jupyter-widgets/controls",
          "model_module_version": "1.5.0",
          "model_name": "HTMLModel",
          "state": {
            "_dom_classes": [],
            "_model_module": "@jupyter-widgets/controls",
            "_model_module_version": "1.5.0",
            "_model_name": "HTMLModel",
            "_view_count": null,
            "_view_module": "@jupyter-widgets/controls",
            "_view_module_version": "1.5.0",
            "_view_name": "HTMLView",
            "description": "",
            "description_tooltip": null,
            "layout": "IPY_MODEL_9e33dfedd28d4fa6b1aaa82beedd718b",
            "placeholder": "​",
            "style": "IPY_MODEL_8011fd9bb5a1465c832f9629feb28e10",
            "value": "100%"
          }
        },
        "7af9f4bec2494ce4b0f99fb9e12ff45a": {
          "model_module": "@jupyter-widgets/controls",
          "model_module_version": "1.5.0",
          "model_name": "FloatProgressModel",
          "state": {
            "_dom_classes": [],
            "_model_module": "@jupyter-widgets/controls",
            "_model_module_version": "1.5.0",
            "_model_name": "FloatProgressModel",
            "_view_count": null,
            "_view_module": "@jupyter-widgets/controls",
            "_view_module_version": "1.5.0",
            "_view_name": "ProgressView",
            "bar_style": "success",
            "description": "",
            "description_tooltip": null,
            "layout": "IPY_MODEL_2ee8824a8f5c4757865d147222adcfef",
            "max": 244408911,
            "min": 0,
            "orientation": "horizontal",
            "style": "IPY_MODEL_148e8907153c48719a8166e0f9a99b55",
            "value": 244408911
          }
        },
        "8011fd9bb5a1465c832f9629feb28e10": {
          "model_module": "@jupyter-widgets/controls",
          "model_module_version": "1.5.0",
          "model_name": "DescriptionStyleModel",
          "state": {
            "_model_module": "@jupyter-widgets/controls",
            "_model_module_version": "1.5.0",
            "_model_name": "DescriptionStyleModel",
            "_view_count": null,
            "_view_module": "@jupyter-widgets/base",
            "_view_module_version": "1.2.0",
            "_view_name": "StyleView",
            "description_width": ""
          }
        },
        "9e33dfedd28d4fa6b1aaa82beedd718b": {
          "model_module": "@jupyter-widgets/base",
          "model_module_version": "1.2.0",
          "model_name": "LayoutModel",
          "state": {
            "_model_module": "@jupyter-widgets/base",
            "_model_module_version": "1.2.0",
            "_model_name": "LayoutModel",
            "_view_count": null,
            "_view_module": "@jupyter-widgets/base",
            "_view_module_version": "1.2.0",
            "_view_name": "LayoutView",
            "align_content": null,
            "align_items": null,
            "align_self": null,
            "border": null,
            "bottom": null,
            "display": null,
            "flex": null,
            "flex_flow": null,
            "grid_area": null,
            "grid_auto_columns": null,
            "grid_auto_flow": null,
            "grid_auto_rows": null,
            "grid_column": null,
            "grid_gap": null,
            "grid_row": null,
            "grid_template_areas": null,
            "grid_template_columns": null,
            "grid_template_rows": null,
            "height": null,
            "justify_content": null,
            "justify_items": null,
            "left": null,
            "margin": null,
            "max_height": null,
            "max_width": null,
            "min_height": null,
            "min_width": null,
            "object_fit": null,
            "object_position": null,
            "order": null,
            "overflow": null,
            "overflow_x": null,
            "overflow_y": null,
            "padding": null,
            "right": null,
            "top": null,
            "visibility": null,
            "width": null
          }
        },
        "d303fb3582c148a9a145e5959d233cd4": {
          "model_module": "@jupyter-widgets/base",
          "model_module_version": "1.2.0",
          "model_name": "LayoutModel",
          "state": {
            "_model_module": "@jupyter-widgets/base",
            "_model_module_version": "1.2.0",
            "_model_name": "LayoutModel",
            "_view_count": null,
            "_view_module": "@jupyter-widgets/base",
            "_view_module_version": "1.2.0",
            "_view_name": "LayoutView",
            "align_content": null,
            "align_items": null,
            "align_self": null,
            "border": null,
            "bottom": null,
            "display": null,
            "flex": null,
            "flex_flow": null,
            "grid_area": null,
            "grid_auto_columns": null,
            "grid_auto_flow": null,
            "grid_auto_rows": null,
            "grid_column": null,
            "grid_gap": null,
            "grid_row": null,
            "grid_template_areas": null,
            "grid_template_columns": null,
            "grid_template_rows": null,
            "height": null,
            "justify_content": null,
            "justify_items": null,
            "left": null,
            "margin": null,
            "max_height": null,
            "max_width": null,
            "min_height": null,
            "min_width": null,
            "object_fit": null,
            "object_position": null,
            "order": null,
            "overflow": null,
            "overflow_x": null,
            "overflow_y": null,
            "padding": null,
            "right": null,
            "top": null,
            "visibility": null,
            "width": null
          }
        }
      }
    }
  },
  "nbformat": 4,
  "nbformat_minor": 0
}